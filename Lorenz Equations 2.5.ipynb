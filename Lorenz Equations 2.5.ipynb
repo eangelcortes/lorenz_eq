{
 "cells": [
  {
   "cell_type": "markdown",
   "metadata": {},
   "source": [
    "<b>Code Imports</b>"
   ]
  },
  {
   "cell_type": "code",
   "execution_count": 1,
   "metadata": {},
   "outputs": [],
   "source": [
    "%matplotlib inline\n",
    "\n",
    "import numpy as num\n",
    "import matplotlib.pyplot as plt\n",
    "import ipywidgets as widgets\n",
    "from mpl_toolkits import mplot3d"
   ]
  },
  {
   "cell_type": "markdown",
   "metadata": {},
   "source": [
    "<b>Lorenz Equations</b>\n",
    "$$\\frac{dx}{dt}=\\sigma(y-x)$$\n",
    "$$\\frac{dy}{dt}=x(\\rho - z) - y$$\n",
    "$$\\frac{dz}{dt}=xy-\\beta z$$\n"
   ]
  },
  {
   "cell_type": "markdown",
   "metadata": {},
   "source": [
    "<b>Lorenz System - RK4 Approximation</b> "
   ]
  },
  {
   "cell_type": "code",
   "execution_count": 2,
   "metadata": {},
   "outputs": [],
   "source": [
    "# Lorenz Values, modify values to modify system\n",
    "# NOTE: Lorenz values are typically positive\n",
    "# Lorenz Equations\n",
    "Lx = lambda x,y,z: σ*(y - x)\n",
    "Ly = lambda x,y,z: x*(ρ- z) - y\n",
    "Lz = lambda x,y,z: x*y - β*z\n"
   ]
  },
  {
   "cell_type": "code",
   "execution_count": 3,
   "metadata": {},
   "outputs": [],
   "source": [
    "def L(ω):\n",
    "    # ω is an array containing values approximated values for x, y, z\n",
    "    return Lx(ω[0],ω[1],ω[2]), Ly(ω[0],ω[1],ω[2]), Lz(ω[0],ω[1],ω[2])\n",
    "\n",
    "\n",
    "\n",
    "# Specialized RK4 for Lorenz Equations\n",
    "\n",
    "def L_RK4(a, b, α, N):\n",
    "# INPUTS: Bounds a and b, initial values α, and sub-intervals N\n",
    "# OUTPUTS: approximation of the functions fx, fy, fz\n",
    "    h = (b-a)/N\n",
    "    t = a\n",
    "    ω = α\n",
    "    fx = [α[0]]\n",
    "    fy = [α[1]]\n",
    "    fz = [α[2]]\n",
    "    \n",
    "    for j in range(1, N+1):\n",
    "        # Initialize for use of k_Mult function\n",
    "        \n",
    "        k1x = h*Lx(ω[0],ω[1],ω[2])\n",
    "        k1y = h*Ly(ω[0],ω[1],ω[2])\n",
    "        k1z = h*Lz(ω[0],ω[1],ω[2])\n",
    "        \n",
    "        k2x = h*Lx(ω[0] + k1x/2, ω[1] + k1y/2,ω[2] + k1z/2)\n",
    "        k2y = h*Ly(ω[0] + k1x/2, ω[1] + k1y/2,ω[2] + k1z/2)\n",
    "        k2z = h*Lz(ω[0] + k1x/2, ω[1] + k1y/2,ω[2] + k1z/2)\n",
    "    \n",
    "        k3x = h*Lx(ω[0] + k2x/2, ω[1] + k2y/2, ω[2] + k2z/2)\n",
    "        k3y = h*Ly(ω[0] + k2x/2, ω[1] + k2y/2, ω[2] + k2z/2)\n",
    "        k3z = h*Lz(ω[0] + k2x/2, ω[1] + k2y/2, ω[2] + k2z/2)\n",
    "        \n",
    "        k4x = h*Lx(ω[0] + k3x, ω[1] + k3y, ω[2] + k3z)\n",
    "        k4y = h*Ly(ω[0] + k3x, ω[1] + k3y, ω[2] + k3z)\n",
    "        k4z = h*Lz(ω[0] + k3x, ω[1] + k3y, ω[2] + k3z)\n",
    "        # Print out respective k values\n",
    "        \n",
    "        # Recalculate ω for next iteration\n",
    "        ω[0] = ω[0] + (k1x + 2*k2x + 2*k3x + k4x)/6;\n",
    "        ω[1] = ω[1] + (k1y + 2*k2y + 2*k3y + k4y)/6;\n",
    "        ω[2] = ω[2] + (k1z + 2*k2z + 2*k3z + k4z)/6;\n",
    "        \n",
    "        fx.append(ω[0])\n",
    "        fy.append(ω[1])\n",
    "        fz.append(ω[2])\n",
    "        \n",
    "    return fx, fy, fz\n"
   ]
  },
  {
   "cell_type": "code",
   "execution_count": 4,
   "metadata": {},
   "outputs": [],
   "source": [
    "# range of t values\n",
    "a = 0; b = 20\n",
    "# initial value for IVPs\n",
    "α = [1,1,1]\n",
    "# number of subintervals used to approximate equations\n",
    "N = 2000\n",
    "ρ = 20; σ = 10; β = 8/3\n",
    "Y = L_RK4(a,b,α,N)"
   ]
  },
  {
   "cell_type": "markdown",
   "metadata": {},
   "source": [
    "<b>Creation of 3D Plot</b>"
   ]
  },
  {
   "cell_type": "code",
   "execution_count": 5,
   "metadata": {},
   "outputs": [
    {
     "name": "stdout",
     "output_type": "stream",
     "text": [
      "Tested ρ: 20\n",
      "Tested σ: 10\n",
      "Tested β: 2.6666666666666665\n"
     ]
    },
    {
     "data": {
      "image/png": "[encoded data removed]",
      "text/plain": [
       "<Figure size 432x288 with 1 Axes>"
      ]
     },
     "metadata": {},
     "output_type": "display_data"
    }
   ],
   "source": [
    "fig = plt.figure(); ax = plt.axes(projection='3d');\n",
    "# Change degrees of rotation:\n",
    "ax.view_init(30,0)\n",
    "\n",
    "ax.plot3D(Y[0],Y[1],Y[2], 'pink'); ax.scatter3D(Y[0], Y[1], Y[2])\n",
    "\n",
    "print (\"Tested ρ:\", ρ); print (\"Tested σ:\", σ); print (\"Tested β:\", β)"
   ]
  },
  {
   "cell_type": "code",
   "execution_count": 6,
   "metadata": {},
   "outputs": [],
   "source": [
    "# 10/16/2018 - Modified k_Mult; removed h from Ω calculation into return statements\n",
    "# 10/18/2018 - Modified L_RK4; allocated x(t), y(t), and z(t) seperately to produce accurate results\n",
    "# 10/29/2018 - Modified L_RK4 to original form, now producing expected results"
   ]
  }
 ],
 "metadata": {
  "kernelspec": {
   "display_name": "Python 3",
   "language": "python",
   "name": "python3"
  },
  "language_info": {
   "codemirror_mode": {
    "name": "ipython",
    "version": 3
   },
   "file_extension": ".py",
   "mimetype": "text/x-python",
   "name": "python",
   "nbconvert_exporter": "python",
   "pygments_lexer": "ipython3",
   "version": "3.6.5"
  }
 },
 "nbformat": 4,
 "nbformat_minor": 2
}
