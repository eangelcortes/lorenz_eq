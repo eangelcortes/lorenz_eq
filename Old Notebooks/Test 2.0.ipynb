{
 "cells": [
  {
   "cell_type": "markdown",
   "metadata": {},
   "source": [
    "<b>Code Imports</b>"
   ]
  },
  {
   "cell_type": "code",
   "execution_count": 44,
   "metadata": {},
   "outputs": [],
   "source": [
    "%matplotlib inline\n",
    "\n",
    "import numpy as num\n",
    "import matplotlib.pyplot as plt\n",
    "from mpl_toolkits import mplot3d"
   ]
  },
  {
   "cell_type": "markdown",
   "metadata": {},
   "source": [
    "<h><b><u>Lorenz Equations</u></b></h>\n",
    "$$\\frac{dx}{dt}=\\sigma(y-x)$$\n",
    "$$\\frac{dy}{dt}=x(\\rho - z) - y$$\n",
    "$$\\frac{dz}{dt}=xy-\\beta z$$\n"
   ]
  },
  {
   "cell_type": "markdown",
   "metadata": {},
   "source": [
    "<b>Lorenz System - RK4 Approximation</b> "
   ]
  },
  {
   "cell_type": "code",
   "execution_count": 45,
   "metadata": {},
   "outputs": [
    {
     "name": "stdout",
     "output_type": "stream",
     "text": [
      "(array([  1.        , 593.85185185]), array([1.00000000e+00, 6.21567189e+05]), array([ 1.00000000e+00, -1.81628107e+04]))\n"
     ]
    }
   ],
   "source": [
    "# Lorenz Values, modify values to modify system\n",
    "# NOTE: Lorenz values are typically positive\n",
    "ρ = 28; σ = 10; β = 8/3\n",
    "x = 1; y = 1; z = 1\n",
    "# Lorenz Equations\n",
    "Lx = lambda x,y,z: σ*(y - x)\n",
    "Ly = lambda x,y,z: x*(ρ- z) - y\n",
    "Lz = lambda x,y,z: x*y - β*z\n",
    "\n",
    "def L(ω):\n",
    "    # ω is an array containing values approximated values for x, y, z\n",
    "    return Lx(ω[0],ω[1],ω[2]), Ly(ω[0],ω[1],ω[2]), Lz(ω[0],ω[1],ω[2])\n",
    "\n",
    "\n",
    "def k_Mult(h, ω, kx, x):\n",
    "    Ω = ω\n",
    "    j = 0\n",
    "    if x == 1:\n",
    "        j = 0\n",
    "    if x == 2 or x == 3:\n",
    "        j = 0.5\n",
    "    else:\n",
    "        j = 1\n",
    "    for i in range(0,3):\n",
    "        Ω[i] = ω[i] + j*(kx[i])\n",
    "    return h*Lx(Ω[0],Ω[1],Ω[2]), h*Ly(Ω[0],Ω[1],Ω[2]), h*Lz(Ω[0],Ω[1],Ω[2])\n",
    "\n",
    "\n",
    "# Specialized RK4 for Lorenz Equations\n",
    "\n",
    "def L_RK4(a, b, α, N):\n",
    "# INPUTS: Bounds a and b, initial values α, and sub-intervals N\n",
    "# OUTPUTS: approximation of the functions fx, fy, fz\n",
    "    h = (b-a)/N\n",
    "    t = a\n",
    "    ω = α\n",
    "    fx = num.zeros((N+1), dtype = float)\n",
    "    fy = num.zeros((N+1), dtype = float)\n",
    "    fz = num.zeros((N+1), dtype = float)\n",
    "    fx[0] = ω[0]\n",
    "    fy[0] = ω[1]\n",
    "    fz[0] = ω[2]\n",
    "    \n",
    "    for j in range(1, N+1):\n",
    "        # Initialize for use of k_Mult function\n",
    "        \n",
    "        k1 = k_Mult(h, ω, ω, 1)\n",
    "        k2 = k_Mult(h, ω, k1, 2)\n",
    "        k3 = k_Mult(h, ω, k2, 3)\n",
    "        k4 = k_Mult(h, ω, k3, 4)\n",
    "        \n",
    "        # Recalculate ω for next iteration\n",
    "        for i in range(0, 3):\n",
    "            ω[i] = ω[i] + (k1[i] + 2*k2[i] + 2*k3[i] + k4[i])/6;\n",
    "        \n",
    "        fx[j] = ω[0]\n",
    "        fy[j] = ω[1]\n",
    "        fz[j] = ω[2]\n",
    "        \n",
    "    return fx, fy, fz\n",
    "\n",
    "\n",
    "\n",
    "\n",
    "# range of t values\n",
    "a = 0\n",
    "b = 1\n",
    "# initial value for IVPs\n",
    "α = [1,1,1]\n",
    "# number of subintervals used to approximate equations\n",
    "N = 1\n",
    "# (delta)t of the function\n",
    "h = (b-a)/N\n",
    "\n",
    "Y = L_RK4(a,b,α,N)\n",
    "print(Y)\n"
   ]
  },
  {
   "cell_type": "markdown",
   "metadata": {},
   "source": [
    "<b>Creation of 3D Plot</b>"
   ]
  },
  {
   "cell_type": "code",
   "execution_count": 46,
   "metadata": {},
   "outputs": [
    {
     "data": {
      "image/png": "[encoded data removed]",
      "text/plain": [
       "<Figure size 432x288 with 1 Axes>"
      ]
     },
     "metadata": {},
     "output_type": "display_data"
    }
   ],
   "source": [
    "fig = plt.figure();\n",
    "ax = plt.axes(projection='3d');\n",
    "ax.view_init(30, 0)\n",
    "# ax.plot3D(Y[0],Y[1],Y[2], 'pink');\n",
    "ax.scatter3D(Y[0], Y[1], Y[2]);\n"
   ]
  },
  {
   "cell_type": "code",
   "execution_count": 47,
   "metadata": {},
   "outputs": [],
   "source": [
    "# 10/16/2018 - Modified k_Mult; removed h from Ω calculation into return statements\n",
    "# 10/18/2018 - Modified L_RK4; allocated x(t), y(t), and z(t) seperately to produce accurate results"
   ]
  }
 ],
 "metadata": {
  "kernelspec": {
   "display_name": "Python 3",
   "language": "python",
   "name": "python3"
  },
  "language_info": {
   "codemirror_mode": {
    "name": "ipython",
    "version": 3
   },
   "file_extension": ".py",
   "mimetype": "text/x-python",
   "name": "python",
   "nbconvert_exporter": "python",
   "pygments_lexer": "ipython3",
   "version": "3.6.5"
  }
 },
 "nbformat": 4,
 "nbformat_minor": 2
}
